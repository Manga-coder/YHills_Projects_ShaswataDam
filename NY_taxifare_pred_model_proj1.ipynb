{
 "cells": [
  {
   "cell_type": "code",
   "execution_count": 1,
   "id": "c342afbd",
   "metadata": {},
   "outputs": [],
   "source": [
    "import numpy as np, pandas as pd, seaborn as sns\n",
    "import matplotlib.pyplot as plt\n",
    "from sklearn.model_selection import train_test_split\n",
    "from sklearn.linear_model import LinearRegression\n",
    "from sklearn.linear_model import LogisticRegression\n",
    "import warnings\n",
    "warnings.filterwarnings('ignore')"
   ]
  },
  {
   "cell_type": "code",
   "execution_count": 2,
   "id": "8104e1d4",
   "metadata": {},
   "outputs": [],
   "source": [
    "tf = pd.read_csv(\"TaxiFare.csv\")"
   ]
  },
  {
   "cell_type": "code",
   "execution_count": 3,
   "id": "f912670a",
   "metadata": {},
   "outputs": [
    {
     "data": {
      "text/html": [
       "<div>\n",
       "<style scoped>\n",
       "    .dataframe tbody tr th:only-of-type {\n",
       "        vertical-align: middle;\n",
       "    }\n",
       "\n",
       "    .dataframe tbody tr th {\n",
       "        vertical-align: top;\n",
       "    }\n",
       "\n",
       "    .dataframe thead th {\n",
       "        text-align: right;\n",
       "    }\n",
       "</style>\n",
       "<table border=\"1\" class=\"dataframe\">\n",
       "  <thead>\n",
       "    <tr style=\"text-align: right;\">\n",
       "      <th></th>\n",
       "      <th>unique_id</th>\n",
       "      <th>amount</th>\n",
       "      <th>date_time_of_pickup</th>\n",
       "      <th>longitude_of_pickup</th>\n",
       "      <th>latitude_of_pickup</th>\n",
       "      <th>longitude_of_dropoff</th>\n",
       "      <th>latitude_of_dropoff</th>\n",
       "      <th>no_of_passenger</th>\n",
       "    </tr>\n",
       "  </thead>\n",
       "  <tbody>\n",
       "    <tr>\n",
       "      <th>0</th>\n",
       "      <td>26:21.0</td>\n",
       "      <td>4.5</td>\n",
       "      <td>2009-06-15 17:26:21 UTC</td>\n",
       "      <td>-73.844311</td>\n",
       "      <td>40.721319</td>\n",
       "      <td>-73.841610</td>\n",
       "      <td>40.712278</td>\n",
       "      <td>1</td>\n",
       "    </tr>\n",
       "    <tr>\n",
       "      <th>1</th>\n",
       "      <td>52:16.0</td>\n",
       "      <td>16.9</td>\n",
       "      <td>2010-01-05 16:52:16 UTC</td>\n",
       "      <td>-74.016048</td>\n",
       "      <td>40.711303</td>\n",
       "      <td>-73.979268</td>\n",
       "      <td>40.782004</td>\n",
       "      <td>1</td>\n",
       "    </tr>\n",
       "    <tr>\n",
       "      <th>2</th>\n",
       "      <td>35:00.0</td>\n",
       "      <td>5.7</td>\n",
       "      <td>2011-08-18 00:35:00 UTC</td>\n",
       "      <td>-73.982738</td>\n",
       "      <td>40.761270</td>\n",
       "      <td>-73.991242</td>\n",
       "      <td>40.750562</td>\n",
       "      <td>2</td>\n",
       "    </tr>\n",
       "    <tr>\n",
       "      <th>3</th>\n",
       "      <td>30:42.0</td>\n",
       "      <td>7.7</td>\n",
       "      <td>2012-04-21 04:30:42 UTC</td>\n",
       "      <td>-73.987130</td>\n",
       "      <td>40.733143</td>\n",
       "      <td>-73.991567</td>\n",
       "      <td>40.758092</td>\n",
       "      <td>1</td>\n",
       "    </tr>\n",
       "    <tr>\n",
       "      <th>4</th>\n",
       "      <td>51:00.0</td>\n",
       "      <td>5.3</td>\n",
       "      <td>2010-03-09 07:51:00 UTC</td>\n",
       "      <td>-73.968095</td>\n",
       "      <td>40.768008</td>\n",
       "      <td>-73.956655</td>\n",
       "      <td>40.783762</td>\n",
       "      <td>1</td>\n",
       "    </tr>\n",
       "  </tbody>\n",
       "</table>\n",
       "</div>"
      ],
      "text/plain": [
       "  unique_id  amount      date_time_of_pickup  longitude_of_pickup  \\\n",
       "0   26:21.0     4.5  2009-06-15 17:26:21 UTC           -73.844311   \n",
       "1   52:16.0    16.9  2010-01-05 16:52:16 UTC           -74.016048   \n",
       "2   35:00.0     5.7  2011-08-18 00:35:00 UTC           -73.982738   \n",
       "3   30:42.0     7.7  2012-04-21 04:30:42 UTC           -73.987130   \n",
       "4   51:00.0     5.3  2010-03-09 07:51:00 UTC           -73.968095   \n",
       "\n",
       "   latitude_of_pickup  longitude_of_dropoff  latitude_of_dropoff  \\\n",
       "0           40.721319            -73.841610            40.712278   \n",
       "1           40.711303            -73.979268            40.782004   \n",
       "2           40.761270            -73.991242            40.750562   \n",
       "3           40.733143            -73.991567            40.758092   \n",
       "4           40.768008            -73.956655            40.783762   \n",
       "\n",
       "   no_of_passenger  \n",
       "0                1  \n",
       "1                1  \n",
       "2                2  \n",
       "3                1  \n",
       "4                1  "
      ]
     },
     "execution_count": 3,
     "metadata": {},
     "output_type": "execute_result"
    }
   ],
   "source": [
    "tf.head()"
   ]
  },
  {
   "cell_type": "code",
   "execution_count": 4,
   "id": "c24d5030",
   "metadata": {},
   "outputs": [
    {
     "data": {
      "text/html": [
       "<div>\n",
       "<style scoped>\n",
       "    .dataframe tbody tr th:only-of-type {\n",
       "        vertical-align: middle;\n",
       "    }\n",
       "\n",
       "    .dataframe tbody tr th {\n",
       "        vertical-align: top;\n",
       "    }\n",
       "\n",
       "    .dataframe thead th {\n",
       "        text-align: right;\n",
       "    }\n",
       "</style>\n",
       "<table border=\"1\" class=\"dataframe\">\n",
       "  <thead>\n",
       "    <tr style=\"text-align: right;\">\n",
       "      <th></th>\n",
       "      <th>unique_id</th>\n",
       "      <th>amount</th>\n",
       "      <th>date_time_of_pickup</th>\n",
       "      <th>longitude_of_pickup</th>\n",
       "      <th>latitude_of_pickup</th>\n",
       "      <th>longitude_of_dropoff</th>\n",
       "      <th>latitude_of_dropoff</th>\n",
       "      <th>no_of_passenger</th>\n",
       "    </tr>\n",
       "  </thead>\n",
       "  <tbody>\n",
       "    <tr>\n",
       "      <th>23358</th>\n",
       "      <td>05:00.0</td>\n",
       "      <td>7.3</td>\n",
       "      <td>2009-04-16 21:05:00 UTC</td>\n",
       "      <td>-73.979713</td>\n",
       "      <td>40.764475</td>\n",
       "      <td>-73.975038</td>\n",
       "      <td>40.750920</td>\n",
       "      <td>1</td>\n",
       "    </tr>\n",
       "    <tr>\n",
       "      <th>39889</th>\n",
       "      <td>01:09.0</td>\n",
       "      <td>7.3</td>\n",
       "      <td>2011-09-01 01:01:09 UTC</td>\n",
       "      <td>-73.996639</td>\n",
       "      <td>40.742626</td>\n",
       "      <td>-73.998759</td>\n",
       "      <td>40.720156</td>\n",
       "      <td>1</td>\n",
       "    </tr>\n",
       "    <tr>\n",
       "      <th>11194</th>\n",
       "      <td>16:23.0</td>\n",
       "      <td>4.1</td>\n",
       "      <td>2012-01-01 12:16:23 UTC</td>\n",
       "      <td>0.000000</td>\n",
       "      <td>0.000000</td>\n",
       "      <td>0.000000</td>\n",
       "      <td>0.000000</td>\n",
       "      <td>4</td>\n",
       "    </tr>\n",
       "    <tr>\n",
       "      <th>32611</th>\n",
       "      <td>23:00.0</td>\n",
       "      <td>10.5</td>\n",
       "      <td>2009-03-19 14:23:00 UTC</td>\n",
       "      <td>-74.005430</td>\n",
       "      <td>40.748252</td>\n",
       "      <td>-73.979992</td>\n",
       "      <td>40.727720</td>\n",
       "      <td>1</td>\n",
       "    </tr>\n",
       "    <tr>\n",
       "      <th>17033</th>\n",
       "      <td>44:52.0</td>\n",
       "      <td>4.5</td>\n",
       "      <td>2011-03-06 06:44:52 UTC</td>\n",
       "      <td>-73.995837</td>\n",
       "      <td>40.744037</td>\n",
       "      <td>-73.991136</td>\n",
       "      <td>40.734914</td>\n",
       "      <td>1</td>\n",
       "    </tr>\n",
       "    <tr>\n",
       "      <th>40794</th>\n",
       "      <td>41:04.0</td>\n",
       "      <td>11.5</td>\n",
       "      <td>2013-07-14 03:41:04 UTC</td>\n",
       "      <td>-73.955079</td>\n",
       "      <td>40.769023</td>\n",
       "      <td>-73.956489</td>\n",
       "      <td>40.804936</td>\n",
       "      <td>1</td>\n",
       "    </tr>\n",
       "    <tr>\n",
       "      <th>40836</th>\n",
       "      <td>12:00.0</td>\n",
       "      <td>12.5</td>\n",
       "      <td>2009-06-09 01:12:00 UTC</td>\n",
       "      <td>-73.960920</td>\n",
       "      <td>40.761147</td>\n",
       "      <td>-73.950742</td>\n",
       "      <td>40.761420</td>\n",
       "      <td>5</td>\n",
       "    </tr>\n",
       "    <tr>\n",
       "      <th>48839</th>\n",
       "      <td>54:00.0</td>\n",
       "      <td>4.5</td>\n",
       "      <td>2011-08-25 21:54:00 UTC</td>\n",
       "      <td>-74.006702</td>\n",
       "      <td>40.731600</td>\n",
       "      <td>-74.004987</td>\n",
       "      <td>40.740858</td>\n",
       "      <td>1</td>\n",
       "    </tr>\n",
       "    <tr>\n",
       "      <th>33036</th>\n",
       "      <td>58:00.0</td>\n",
       "      <td>7.5</td>\n",
       "      <td>2013-04-12 06:58:00 UTC</td>\n",
       "      <td>-73.971360</td>\n",
       "      <td>40.746742</td>\n",
       "      <td>-73.975442</td>\n",
       "      <td>40.760447</td>\n",
       "      <td>1</td>\n",
       "    </tr>\n",
       "    <tr>\n",
       "      <th>46535</th>\n",
       "      <td>10:37.0</td>\n",
       "      <td>7.0</td>\n",
       "      <td>2014-08-17 14:10:37 UTC</td>\n",
       "      <td>-73.967743</td>\n",
       "      <td>40.768630</td>\n",
       "      <td>-73.951104</td>\n",
       "      <td>40.791714</td>\n",
       "      <td>1</td>\n",
       "    </tr>\n",
       "  </tbody>\n",
       "</table>\n",
       "</div>"
      ],
      "text/plain": [
       "      unique_id  amount      date_time_of_pickup  longitude_of_pickup  \\\n",
       "23358   05:00.0     7.3  2009-04-16 21:05:00 UTC           -73.979713   \n",
       "39889   01:09.0     7.3  2011-09-01 01:01:09 UTC           -73.996639   \n",
       "11194   16:23.0     4.1  2012-01-01 12:16:23 UTC             0.000000   \n",
       "32611   23:00.0    10.5  2009-03-19 14:23:00 UTC           -74.005430   \n",
       "17033   44:52.0     4.5  2011-03-06 06:44:52 UTC           -73.995837   \n",
       "40794   41:04.0    11.5  2013-07-14 03:41:04 UTC           -73.955079   \n",
       "40836   12:00.0    12.5  2009-06-09 01:12:00 UTC           -73.960920   \n",
       "48839   54:00.0     4.5  2011-08-25 21:54:00 UTC           -74.006702   \n",
       "33036   58:00.0     7.5  2013-04-12 06:58:00 UTC           -73.971360   \n",
       "46535   10:37.0     7.0  2014-08-17 14:10:37 UTC           -73.967743   \n",
       "\n",
       "       latitude_of_pickup  longitude_of_dropoff  latitude_of_dropoff  \\\n",
       "23358           40.764475            -73.975038            40.750920   \n",
       "39889           40.742626            -73.998759            40.720156   \n",
       "11194            0.000000              0.000000             0.000000   \n",
       "32611           40.748252            -73.979992            40.727720   \n",
       "17033           40.744037            -73.991136            40.734914   \n",
       "40794           40.769023            -73.956489            40.804936   \n",
       "40836           40.761147            -73.950742            40.761420   \n",
       "48839           40.731600            -74.004987            40.740858   \n",
       "33036           40.746742            -73.975442            40.760447   \n",
       "46535           40.768630            -73.951104            40.791714   \n",
       "\n",
       "       no_of_passenger  \n",
       "23358                1  \n",
       "39889                1  \n",
       "11194                4  \n",
       "32611                1  \n",
       "17033                1  \n",
       "40794                1  \n",
       "40836                5  \n",
       "48839                1  \n",
       "33036                1  \n",
       "46535                1  "
      ]
     },
     "execution_count": 4,
     "metadata": {},
     "output_type": "execute_result"
    }
   ],
   "source": [
    "tf.sample(10)"
   ]
  },
  {
   "cell_type": "code",
   "execution_count": 5,
   "id": "20cef5cc",
   "metadata": {},
   "outputs": [
    {
     "data": {
      "text/plain": [
       "(50000, 8)"
      ]
     },
     "execution_count": 5,
     "metadata": {},
     "output_type": "execute_result"
    }
   ],
   "source": [
    "tf.shape"
   ]
  },
  {
   "cell_type": "code",
   "execution_count": 6,
   "id": "11cc0dd9",
   "metadata": {},
   "outputs": [
    {
     "data": {
      "text/html": [
       "<div>\n",
       "<style scoped>\n",
       "    .dataframe tbody tr th:only-of-type {\n",
       "        vertical-align: middle;\n",
       "    }\n",
       "\n",
       "    .dataframe tbody tr th {\n",
       "        vertical-align: top;\n",
       "    }\n",
       "\n",
       "    .dataframe thead th {\n",
       "        text-align: right;\n",
       "    }\n",
       "</style>\n",
       "<table border=\"1\" class=\"dataframe\">\n",
       "  <thead>\n",
       "    <tr style=\"text-align: right;\">\n",
       "      <th></th>\n",
       "      <th>amount</th>\n",
       "      <th>longitude_of_pickup</th>\n",
       "      <th>latitude_of_pickup</th>\n",
       "      <th>longitude_of_dropoff</th>\n",
       "      <th>latitude_of_dropoff</th>\n",
       "      <th>no_of_passenger</th>\n",
       "    </tr>\n",
       "  </thead>\n",
       "  <tbody>\n",
       "    <tr>\n",
       "      <th>count</th>\n",
       "      <td>50000.000000</td>\n",
       "      <td>50000.000000</td>\n",
       "      <td>50000.000000</td>\n",
       "      <td>50000.000000</td>\n",
       "      <td>50000.000000</td>\n",
       "      <td>50000.000000</td>\n",
       "    </tr>\n",
       "    <tr>\n",
       "      <th>mean</th>\n",
       "      <td>11.364171</td>\n",
       "      <td>-72.509756</td>\n",
       "      <td>39.933759</td>\n",
       "      <td>-72.504616</td>\n",
       "      <td>39.926251</td>\n",
       "      <td>1.667840</td>\n",
       "    </tr>\n",
       "    <tr>\n",
       "      <th>std</th>\n",
       "      <td>9.685557</td>\n",
       "      <td>10.393860</td>\n",
       "      <td>6.224857</td>\n",
       "      <td>10.407570</td>\n",
       "      <td>6.014737</td>\n",
       "      <td>1.289195</td>\n",
       "    </tr>\n",
       "    <tr>\n",
       "      <th>min</th>\n",
       "      <td>-5.000000</td>\n",
       "      <td>-75.423848</td>\n",
       "      <td>-74.006893</td>\n",
       "      <td>-84.654241</td>\n",
       "      <td>-74.006377</td>\n",
       "      <td>0.000000</td>\n",
       "    </tr>\n",
       "    <tr>\n",
       "      <th>25%</th>\n",
       "      <td>6.000000</td>\n",
       "      <td>-73.992062</td>\n",
       "      <td>40.734880</td>\n",
       "      <td>-73.991152</td>\n",
       "      <td>40.734372</td>\n",
       "      <td>1.000000</td>\n",
       "    </tr>\n",
       "    <tr>\n",
       "      <th>50%</th>\n",
       "      <td>8.500000</td>\n",
       "      <td>-73.981840</td>\n",
       "      <td>40.752678</td>\n",
       "      <td>-73.980082</td>\n",
       "      <td>40.753372</td>\n",
       "      <td>1.000000</td>\n",
       "    </tr>\n",
       "    <tr>\n",
       "      <th>75%</th>\n",
       "      <td>12.500000</td>\n",
       "      <td>-73.967148</td>\n",
       "      <td>40.767360</td>\n",
       "      <td>-73.963584</td>\n",
       "      <td>40.768167</td>\n",
       "      <td>2.000000</td>\n",
       "    </tr>\n",
       "    <tr>\n",
       "      <th>max</th>\n",
       "      <td>200.000000</td>\n",
       "      <td>40.783472</td>\n",
       "      <td>401.083332</td>\n",
       "      <td>40.851027</td>\n",
       "      <td>43.415190</td>\n",
       "      <td>6.000000</td>\n",
       "    </tr>\n",
       "  </tbody>\n",
       "</table>\n",
       "</div>"
      ],
      "text/plain": [
       "             amount  longitude_of_pickup  latitude_of_pickup  \\\n",
       "count  50000.000000         50000.000000        50000.000000   \n",
       "mean      11.364171           -72.509756           39.933759   \n",
       "std        9.685557            10.393860            6.224857   \n",
       "min       -5.000000           -75.423848          -74.006893   \n",
       "25%        6.000000           -73.992062           40.734880   \n",
       "50%        8.500000           -73.981840           40.752678   \n",
       "75%       12.500000           -73.967148           40.767360   \n",
       "max      200.000000            40.783472          401.083332   \n",
       "\n",
       "       longitude_of_dropoff  latitude_of_dropoff  no_of_passenger  \n",
       "count          50000.000000         50000.000000     50000.000000  \n",
       "mean             -72.504616            39.926251         1.667840  \n",
       "std               10.407570             6.014737         1.289195  \n",
       "min              -84.654241           -74.006377         0.000000  \n",
       "25%              -73.991152            40.734372         1.000000  \n",
       "50%              -73.980082            40.753372         1.000000  \n",
       "75%              -73.963584            40.768167         2.000000  \n",
       "max               40.851027            43.415190         6.000000  "
      ]
     },
     "execution_count": 6,
     "metadata": {},
     "output_type": "execute_result"
    }
   ],
   "source": [
    "tf.describe()"
   ]
  },
  {
   "cell_type": "code",
   "execution_count": 7,
   "id": "70881c15",
   "metadata": {},
   "outputs": [
    {
     "name": "stdout",
     "output_type": "stream",
     "text": [
      "<class 'pandas.core.frame.DataFrame'>\n",
      "RangeIndex: 50000 entries, 0 to 49999\n",
      "Data columns (total 8 columns):\n",
      " #   Column                Non-Null Count  Dtype  \n",
      "---  ------                --------------  -----  \n",
      " 0   unique_id             50000 non-null  object \n",
      " 1   amount                50000 non-null  float64\n",
      " 2   date_time_of_pickup   50000 non-null  object \n",
      " 3   longitude_of_pickup   50000 non-null  float64\n",
      " 4   latitude_of_pickup    50000 non-null  float64\n",
      " 5   longitude_of_dropoff  50000 non-null  float64\n",
      " 6   latitude_of_dropoff   50000 non-null  float64\n",
      " 7   no_of_passenger       50000 non-null  int64  \n",
      "dtypes: float64(5), int64(1), object(2)\n",
      "memory usage: 3.1+ MB\n"
     ]
    }
   ],
   "source": [
    "tf.info()"
   ]
  },
  {
   "cell_type": "code",
   "execution_count": 8,
   "id": "2662652e",
   "metadata": {},
   "outputs": [],
   "source": [
    "tf=pd.get_dummies(tf,columns=[\"no_of_passenger\"])"
   ]
  },
  {
   "cell_type": "code",
   "execution_count": 9,
   "id": "ce10777a",
   "metadata": {},
   "outputs": [
    {
     "data": {
      "text/html": [
       "<div>\n",
       "<style scoped>\n",
       "    .dataframe tbody tr th:only-of-type {\n",
       "        vertical-align: middle;\n",
       "    }\n",
       "\n",
       "    .dataframe tbody tr th {\n",
       "        vertical-align: top;\n",
       "    }\n",
       "\n",
       "    .dataframe thead th {\n",
       "        text-align: right;\n",
       "    }\n",
       "</style>\n",
       "<table border=\"1\" class=\"dataframe\">\n",
       "  <thead>\n",
       "    <tr style=\"text-align: right;\">\n",
       "      <th></th>\n",
       "      <th>unique_id</th>\n",
       "      <th>amount</th>\n",
       "      <th>date_time_of_pickup</th>\n",
       "      <th>longitude_of_pickup</th>\n",
       "      <th>latitude_of_pickup</th>\n",
       "      <th>longitude_of_dropoff</th>\n",
       "      <th>latitude_of_dropoff</th>\n",
       "      <th>no_of_passenger_0</th>\n",
       "      <th>no_of_passenger_1</th>\n",
       "      <th>no_of_passenger_2</th>\n",
       "      <th>no_of_passenger_3</th>\n",
       "      <th>no_of_passenger_4</th>\n",
       "      <th>no_of_passenger_5</th>\n",
       "      <th>no_of_passenger_6</th>\n",
       "    </tr>\n",
       "  </thead>\n",
       "  <tbody>\n",
       "    <tr>\n",
       "      <th>43959</th>\n",
       "      <td>50:00.0</td>\n",
       "      <td>18.50</td>\n",
       "      <td>2013-09-29 00:50:00 UTC</td>\n",
       "      <td>-73.946310</td>\n",
       "      <td>40.714375</td>\n",
       "      <td>-73.996000</td>\n",
       "      <td>40.680050</td>\n",
       "      <td>0</td>\n",
       "      <td>1</td>\n",
       "      <td>0</td>\n",
       "      <td>0</td>\n",
       "      <td>0</td>\n",
       "      <td>0</td>\n",
       "      <td>0</td>\n",
       "    </tr>\n",
       "    <tr>\n",
       "      <th>14655</th>\n",
       "      <td>17:00.0</td>\n",
       "      <td>11.50</td>\n",
       "      <td>2014-02-22 23:17:00 UTC</td>\n",
       "      <td>-73.986907</td>\n",
       "      <td>40.742985</td>\n",
       "      <td>-74.009625</td>\n",
       "      <td>40.710130</td>\n",
       "      <td>0</td>\n",
       "      <td>0</td>\n",
       "      <td>0</td>\n",
       "      <td>0</td>\n",
       "      <td>0</td>\n",
       "      <td>0</td>\n",
       "      <td>1</td>\n",
       "    </tr>\n",
       "    <tr>\n",
       "      <th>35311</th>\n",
       "      <td>09:11.0</td>\n",
       "      <td>5.30</td>\n",
       "      <td>2012-06-30 18:09:11 UTC</td>\n",
       "      <td>-73.964497</td>\n",
       "      <td>40.803308</td>\n",
       "      <td>-73.951847</td>\n",
       "      <td>40.803972</td>\n",
       "      <td>0</td>\n",
       "      <td>0</td>\n",
       "      <td>1</td>\n",
       "      <td>0</td>\n",
       "      <td>0</td>\n",
       "      <td>0</td>\n",
       "      <td>0</td>\n",
       "    </tr>\n",
       "    <tr>\n",
       "      <th>35184</th>\n",
       "      <td>41:00.0</td>\n",
       "      <td>28.83</td>\n",
       "      <td>2014-06-25 20:41:00 UTC</td>\n",
       "      <td>-73.871002</td>\n",
       "      <td>40.773917</td>\n",
       "      <td>-73.952510</td>\n",
       "      <td>40.779875</td>\n",
       "      <td>0</td>\n",
       "      <td>1</td>\n",
       "      <td>0</td>\n",
       "      <td>0</td>\n",
       "      <td>0</td>\n",
       "      <td>0</td>\n",
       "      <td>0</td>\n",
       "    </tr>\n",
       "    <tr>\n",
       "      <th>37271</th>\n",
       "      <td>44:13.0</td>\n",
       "      <td>5.30</td>\n",
       "      <td>2011-12-01 22:44:13 UTC</td>\n",
       "      <td>-73.981037</td>\n",
       "      <td>40.771004</td>\n",
       "      <td>-73.980069</td>\n",
       "      <td>40.780574</td>\n",
       "      <td>0</td>\n",
       "      <td>1</td>\n",
       "      <td>0</td>\n",
       "      <td>0</td>\n",
       "      <td>0</td>\n",
       "      <td>0</td>\n",
       "      <td>0</td>\n",
       "    </tr>\n",
       "    <tr>\n",
       "      <th>31173</th>\n",
       "      <td>24:38.0</td>\n",
       "      <td>7.70</td>\n",
       "      <td>2011-02-21 10:24:38 UTC</td>\n",
       "      <td>-73.981654</td>\n",
       "      <td>40.763901</td>\n",
       "      <td>-73.977267</td>\n",
       "      <td>40.742679</td>\n",
       "      <td>0</td>\n",
       "      <td>0</td>\n",
       "      <td>1</td>\n",
       "      <td>0</td>\n",
       "      <td>0</td>\n",
       "      <td>0</td>\n",
       "      <td>0</td>\n",
       "    </tr>\n",
       "    <tr>\n",
       "      <th>22051</th>\n",
       "      <td>14:01.0</td>\n",
       "      <td>4.90</td>\n",
       "      <td>2012-03-21 10:14:01 UTC</td>\n",
       "      <td>-73.978060</td>\n",
       "      <td>40.748863</td>\n",
       "      <td>-73.984887</td>\n",
       "      <td>40.751377</td>\n",
       "      <td>0</td>\n",
       "      <td>1</td>\n",
       "      <td>0</td>\n",
       "      <td>0</td>\n",
       "      <td>0</td>\n",
       "      <td>0</td>\n",
       "      <td>0</td>\n",
       "    </tr>\n",
       "    <tr>\n",
       "      <th>21518</th>\n",
       "      <td>31:52.0</td>\n",
       "      <td>7.30</td>\n",
       "      <td>2011-11-22 10:31:52 UTC</td>\n",
       "      <td>-73.957893</td>\n",
       "      <td>40.782085</td>\n",
       "      <td>-73.967965</td>\n",
       "      <td>40.762742</td>\n",
       "      <td>0</td>\n",
       "      <td>1</td>\n",
       "      <td>0</td>\n",
       "      <td>0</td>\n",
       "      <td>0</td>\n",
       "      <td>0</td>\n",
       "      <td>0</td>\n",
       "    </tr>\n",
       "    <tr>\n",
       "      <th>36605</th>\n",
       "      <td>14:46.0</td>\n",
       "      <td>19.00</td>\n",
       "      <td>2014-09-24 12:14:46 UTC</td>\n",
       "      <td>-73.972777</td>\n",
       "      <td>40.755770</td>\n",
       "      <td>-74.010165</td>\n",
       "      <td>40.720574</td>\n",
       "      <td>0</td>\n",
       "      <td>1</td>\n",
       "      <td>0</td>\n",
       "      <td>0</td>\n",
       "      <td>0</td>\n",
       "      <td>0</td>\n",
       "      <td>0</td>\n",
       "    </tr>\n",
       "    <tr>\n",
       "      <th>21922</th>\n",
       "      <td>23:00.0</td>\n",
       "      <td>17.00</td>\n",
       "      <td>2014-02-28 05:23:00 UTC</td>\n",
       "      <td>-73.903645</td>\n",
       "      <td>40.739017</td>\n",
       "      <td>-73.971412</td>\n",
       "      <td>40.757605</td>\n",
       "      <td>0</td>\n",
       "      <td>0</td>\n",
       "      <td>0</td>\n",
       "      <td>0</td>\n",
       "      <td>0</td>\n",
       "      <td>1</td>\n",
       "      <td>0</td>\n",
       "    </tr>\n",
       "  </tbody>\n",
       "</table>\n",
       "</div>"
      ],
      "text/plain": [
       "      unique_id  amount      date_time_of_pickup  longitude_of_pickup  \\\n",
       "43959   50:00.0   18.50  2013-09-29 00:50:00 UTC           -73.946310   \n",
       "14655   17:00.0   11.50  2014-02-22 23:17:00 UTC           -73.986907   \n",
       "35311   09:11.0    5.30  2012-06-30 18:09:11 UTC           -73.964497   \n",
       "35184   41:00.0   28.83  2014-06-25 20:41:00 UTC           -73.871002   \n",
       "37271   44:13.0    5.30  2011-12-01 22:44:13 UTC           -73.981037   \n",
       "31173   24:38.0    7.70  2011-02-21 10:24:38 UTC           -73.981654   \n",
       "22051   14:01.0    4.90  2012-03-21 10:14:01 UTC           -73.978060   \n",
       "21518   31:52.0    7.30  2011-11-22 10:31:52 UTC           -73.957893   \n",
       "36605   14:46.0   19.00  2014-09-24 12:14:46 UTC           -73.972777   \n",
       "21922   23:00.0   17.00  2014-02-28 05:23:00 UTC           -73.903645   \n",
       "\n",
       "       latitude_of_pickup  longitude_of_dropoff  latitude_of_dropoff  \\\n",
       "43959           40.714375            -73.996000            40.680050   \n",
       "14655           40.742985            -74.009625            40.710130   \n",
       "35311           40.803308            -73.951847            40.803972   \n",
       "35184           40.773917            -73.952510            40.779875   \n",
       "37271           40.771004            -73.980069            40.780574   \n",
       "31173           40.763901            -73.977267            40.742679   \n",
       "22051           40.748863            -73.984887            40.751377   \n",
       "21518           40.782085            -73.967965            40.762742   \n",
       "36605           40.755770            -74.010165            40.720574   \n",
       "21922           40.739017            -73.971412            40.757605   \n",
       "\n",
       "       no_of_passenger_0  no_of_passenger_1  no_of_passenger_2  \\\n",
       "43959                  0                  1                  0   \n",
       "14655                  0                  0                  0   \n",
       "35311                  0                  0                  1   \n",
       "35184                  0                  1                  0   \n",
       "37271                  0                  1                  0   \n",
       "31173                  0                  0                  1   \n",
       "22051                  0                  1                  0   \n",
       "21518                  0                  1                  0   \n",
       "36605                  0                  1                  0   \n",
       "21922                  0                  0                  0   \n",
       "\n",
       "       no_of_passenger_3  no_of_passenger_4  no_of_passenger_5  \\\n",
       "43959                  0                  0                  0   \n",
       "14655                  0                  0                  0   \n",
       "35311                  0                  0                  0   \n",
       "35184                  0                  0                  0   \n",
       "37271                  0                  0                  0   \n",
       "31173                  0                  0                  0   \n",
       "22051                  0                  0                  0   \n",
       "21518                  0                  0                  0   \n",
       "36605                  0                  0                  0   \n",
       "21922                  0                  0                  1   \n",
       "\n",
       "       no_of_passenger_6  \n",
       "43959                  0  \n",
       "14655                  1  \n",
       "35311                  0  \n",
       "35184                  0  \n",
       "37271                  0  \n",
       "31173                  0  \n",
       "22051                  0  \n",
       "21518                  0  \n",
       "36605                  0  \n",
       "21922                  0  "
      ]
     },
     "execution_count": 9,
     "metadata": {},
     "output_type": "execute_result"
    }
   ],
   "source": [
    "tf.sample(10)"
   ]
  },
  {
   "cell_type": "code",
   "execution_count": null,
   "id": "80b6d213",
   "metadata": {},
   "outputs": [],
   "source": []
  },
  {
   "cell_type": "code",
   "execution_count": 10,
   "id": "b1eb20fd",
   "metadata": {},
   "outputs": [
    {
     "data": {
      "text/plain": [
       "unique_id               0\n",
       "amount                  0\n",
       "date_time_of_pickup     0\n",
       "longitude_of_pickup     0\n",
       "latitude_of_pickup      0\n",
       "longitude_of_dropoff    0\n",
       "latitude_of_dropoff     0\n",
       "no_of_passenger_0       0\n",
       "no_of_passenger_1       0\n",
       "no_of_passenger_2       0\n",
       "no_of_passenger_3       0\n",
       "no_of_passenger_4       0\n",
       "no_of_passenger_5       0\n",
       "no_of_passenger_6       0\n",
       "dtype: int64"
      ]
     },
     "execution_count": 10,
     "metadata": {},
     "output_type": "execute_result"
    }
   ],
   "source": [
    "tf.isnull().sum()"
   ]
  },
  {
   "cell_type": "code",
   "execution_count": 11,
   "id": "a2d6d9e2",
   "metadata": {},
   "outputs": [
    {
     "data": {
      "text/plain": [
       "unique_id                object\n",
       "amount                  float64\n",
       "date_time_of_pickup      object\n",
       "longitude_of_pickup     float64\n",
       "latitude_of_pickup      float64\n",
       "longitude_of_dropoff    float64\n",
       "latitude_of_dropoff     float64\n",
       "no_of_passenger_0         uint8\n",
       "no_of_passenger_1         uint8\n",
       "no_of_passenger_2         uint8\n",
       "no_of_passenger_3         uint8\n",
       "no_of_passenger_4         uint8\n",
       "no_of_passenger_5         uint8\n",
       "no_of_passenger_6         uint8\n",
       "dtype: object"
      ]
     },
     "execution_count": 11,
     "metadata": {},
     "output_type": "execute_result"
    }
   ],
   "source": [
    "tf.dtypes"
   ]
  },
  {
   "cell_type": "code",
   "execution_count": 12,
   "id": "5fcd640d",
   "metadata": {},
   "outputs": [],
   "source": [
    "tf=tf.drop([\"unique_id\",\"date_time_of_pickup\"],axis=1)"
   ]
  },
  {
   "cell_type": "code",
   "execution_count": 13,
   "id": "7898c270",
   "metadata": {
    "scrolled": true
   },
   "outputs": [
    {
     "data": {
      "text/plain": [
       "amount                  float64\n",
       "longitude_of_pickup     float64\n",
       "latitude_of_pickup      float64\n",
       "longitude_of_dropoff    float64\n",
       "latitude_of_dropoff     float64\n",
       "no_of_passenger_0         uint8\n",
       "no_of_passenger_1         uint8\n",
       "no_of_passenger_2         uint8\n",
       "no_of_passenger_3         uint8\n",
       "no_of_passenger_4         uint8\n",
       "no_of_passenger_5         uint8\n",
       "no_of_passenger_6         uint8\n",
       "dtype: object"
      ]
     },
     "execution_count": 13,
     "metadata": {},
     "output_type": "execute_result"
    }
   ],
   "source": [
    "tf.dtypes"
   ]
  },
  {
   "cell_type": "code",
   "execution_count": 14,
   "id": "a4e0dad5",
   "metadata": {},
   "outputs": [
    {
     "data": {
      "image/png": "[encoded data removed]",
      "text/plain": [
       "<Figure size 432x288 with 1 Axes>"
      ]
     },
     "metadata": {
      "needs_background": "light"
     },
     "output_type": "display_data"
    }
   ],
   "source": [
    "tf.boxplot(column=\"amount\")\n",
    "plt.show()"
   ]
  },
  {
   "cell_type": "code",
   "execution_count": 15,
   "id": "8b24e378",
   "metadata": {},
   "outputs": [
    {
     "data": {
      "image/png": "[encoded data removed]",
      "text/plain": [
       "<Figure size 432x288 with 1 Axes>"
      ]
     },
     "metadata": {
      "needs_background": "light"
     },
     "output_type": "display_data"
    }
   ],
   "source": [
    "tf.boxplot(column=\"longitude_of_pickup\")\n",
    "plt.show()"
   ]
  },
  {
   "cell_type": "code",
   "execution_count": 16,
   "id": "d43d410d",
   "metadata": {},
   "outputs": [
    {
     "data": {
      "image/png": "[encoded data removed]",
      "text/plain": [
       "<Figure size 432x288 with 1 Axes>"
      ]
     },
     "metadata": {
      "needs_background": "light"
     },
     "output_type": "display_data"
    }
   ],
   "source": [
    "tf.boxplot(column=\"latitude_of_pickup\")\n",
    "plt.show()"
   ]
  },
  {
   "cell_type": "code",
   "execution_count": 17,
   "id": "09a4b69d",
   "metadata": {},
   "outputs": [
    {
     "data": {
      "image/png": "[encoded data removed]",
      "text/plain": [
       "<Figure size 432x288 with 1 Axes>"
      ]
     },
     "metadata": {
      "needs_background": "light"
     },
     "output_type": "display_data"
    }
   ],
   "source": [
    "tf.boxplot(column=\"longitude_of_dropoff\")\n",
    "plt.show()"
   ]
  },
  {
   "cell_type": "code",
   "execution_count": 18,
   "id": "d5afd0f4",
   "metadata": {
    "scrolled": true
   },
   "outputs": [
    {
     "data": {
      "image/png": "[encoded data removed]",
      "text/plain": [
       "<Figure size 432x288 with 1 Axes>"
      ]
     },
     "metadata": {
      "needs_background": "light"
     },
     "output_type": "display_data"
    }
   ],
   "source": [
    "tf.boxplot(column=\"latitude_of_dropoff\")\n",
    "plt.show()"
   ]
  },
  {
   "cell_type": "code",
   "execution_count": 19,
   "id": "0e3c07f8",
   "metadata": {
    "scrolled": true
   },
   "outputs": [
    {
     "data": {
      "image/png": "[encoded data removed]",
      "text/plain": [
       "<Figure size 432x288 with 1 Axes>"
      ]
     },
     "metadata": {
      "needs_background": "light"
     },
     "output_type": "display_data"
    }
   ],
   "source": [
    "tf.boxplot(column=\"no_of_passenger_0\")\n",
    "plt.show()"
   ]
  },
  {
   "cell_type": "code",
   "execution_count": 20,
   "id": "576d6de7",
   "metadata": {
    "scrolled": true
   },
   "outputs": [
    {
     "data": {
      "image/png": "[encoded data removed]",
      "text/plain": [
       "<Figure size 432x288 with 1 Axes>"
      ]
     },
     "metadata": {
      "needs_background": "light"
     },
     "output_type": "display_data"
    }
   ],
   "source": [
    "tf.boxplot(column=\"no_of_passenger_1\")\n",
    "plt.show()"
   ]
  },
  {
   "cell_type": "code",
   "execution_count": 21,
   "id": "b4d83a8d",
   "metadata": {
    "scrolled": true
   },
   "outputs": [
    {
     "data": {
      "image/png": "[encoded data removed]",
      "text/plain": [
       "<Figure size 432x288 with 1 Axes>"
      ]
     },
     "metadata": {
      "needs_background": "light"
     },
     "output_type": "display_data"
    }
   ],
   "source": [
    "tf.boxplot(column=\"no_of_passenger_2\")\n",
    "plt.show()"
   ]
  },
  {
   "cell_type": "code",
   "execution_count": 22,
   "id": "c7371748",
   "metadata": {
    "scrolled": true
   },
   "outputs": [
    {
     "data": {
      "image/png": "[encoded data removed]",
      "text/plain": [
       "<Figure size 432x288 with 1 Axes>"
      ]
     },
     "metadata": {
      "needs_background": "light"
     },
     "output_type": "display_data"
    }
   ],
   "source": [
    "tf.boxplot(column=\"no_of_passenger_3\")\n",
    "plt.show()"
   ]
  },
  {
   "cell_type": "code",
   "execution_count": 23,
   "id": "593eb9fd",
   "metadata": {
    "scrolled": true
   },
   "outputs": [
    {
     "data": {
      "image/png": "[encoded data removed]",
      "text/plain": [
       "<Figure size 432x288 with 1 Axes>"
      ]
     },
     "metadata": {
      "needs_background": "light"
     },
     "output_type": "display_data"
    }
   ],
   "source": [
    "tf.boxplot(column=\"no_of_passenger_4\")\n",
    "plt.show()"
   ]
  },
  {
   "cell_type": "code",
   "execution_count": 24,
   "id": "da5eb35c",
   "metadata": {
    "scrolled": true
   },
   "outputs": [
    {
     "data": {
      "image/png": "[encoded data removed]",
      "text/plain": [
       "<Figure size 432x288 with 1 Axes>"
      ]
     },
     "metadata": {
      "needs_background": "light"
     },
     "output_type": "display_data"
    }
   ],
   "source": [
    "tf.boxplot(column=\"no_of_passenger_5\")\n",
    "plt.show()"
   ]
  },
  {
   "cell_type": "code",
   "execution_count": 25,
   "id": "98328a0f",
   "metadata": {
    "scrolled": true
   },
   "outputs": [
    {
     "data": {
      "image/png": "[encoded data removed]",
      "text/plain": [
       "<Figure size 432x288 with 1 Axes>"
      ]
     },
     "metadata": {
      "needs_background": "light"
     },
     "output_type": "display_data"
    }
   ],
   "source": [
    "tf.boxplot(column=\"no_of_passenger_6\")\n",
    "plt.show()"
   ]
  },
  {
   "cell_type": "code",
   "execution_count": 26,
   "id": "0ef1e2ad",
   "metadata": {},
   "outputs": [],
   "source": [
    "def rem_out(c):\n",
    "    sorted(c)\n",
    "    q1,q3=c.quantile([0.25,0.75])\n",
    "    IQR=q3-q1\n",
    "    lr=q1-(1.5*IQR)\n",
    "    ur=q3+(1.5*IQR)\n",
    "    return lr,ur"
   ]
  },
  {
   "cell_type": "code",
   "execution_count": 27,
   "id": "702ca2e7",
   "metadata": {},
   "outputs": [],
   "source": [
    "l,u=rem_out(tf['amount'])\n",
    "tf['amount']=np.where(tf['amount']>u,u,tf['amount'])\n",
    "tf['amount']=np.where(tf['amount']<l,l,tf['amount'])"
   ]
  },
  {
   "cell_type": "code",
   "execution_count": 28,
   "id": "c07c882c",
   "metadata": {},
   "outputs": [],
   "source": [
    "l,u=rem_out(tf['longitude_of_dropoff'])\n",
    "tf['longitude_of_dropoff']=np.where(tf['longitude_of_dropoff']>u,u,tf['longitude_of_dropoff'])\n",
    "tf['longitude_of_dropoff']=np.where(tf['longitude_of_dropoff']<l,l,tf['longitude_of_dropoff'])"
   ]
  },
  {
   "cell_type": "code",
   "execution_count": null,
   "id": "1825e88d",
   "metadata": {},
   "outputs": [],
   "source": []
  },
  {
   "cell_type": "code",
   "execution_count": 29,
   "id": "998870d2",
   "metadata": {},
   "outputs": [],
   "source": [
    "l,u=rem_out(tf['latitude_of_pickup'])\n",
    "tf['latitude_of_pickup']=np.where(tf['latitude_of_pickup']>u,u,tf['latitude_of_pickup'])\n",
    "tf['latitude_of_pickup']=np.where(tf['latitude_of_pickup']<l,l,tf['latitude_of_pickup'])"
   ]
  },
  {
   "cell_type": "code",
   "execution_count": 30,
   "id": "63798a75",
   "metadata": {},
   "outputs": [],
   "source": [
    "l,u=rem_out(tf['longitude_of_pickup'])\n",
    "tf['longitude_of_pickup']=np.where(tf['longitude_of_pickup']>u,u,tf['longitude_of_pickup'])\n",
    "tf['longitude_of_pickup']=np.where(tf['longitude_of_pickup']<l,l,tf['longitude_of_pickup'])"
   ]
  },
  {
   "cell_type": "code",
   "execution_count": 31,
   "id": "c63ea55d",
   "metadata": {},
   "outputs": [],
   "source": [
    "l,u=rem_out(tf['latitude_of_dropoff'])\n",
    "tf['latitude_of_dropoff']=np.where(tf['latitude_of_dropoff']>u,u,tf['latitude_of_dropoff'])\n",
    "tf['latitude_of_dropoff']=np.where(tf['latitude_of_dropoff']<l,l,tf['latitude_of_dropoff'])"
   ]
  },
  {
   "cell_type": "code",
   "execution_count": 32,
   "id": "6e83f728",
   "metadata": {},
   "outputs": [],
   "source": [
    "l,u=rem_out(tf['no_of_passenger_0'])\n",
    "tf['no_of_passenger_0']=np.where(tf['no_of_passenger_0']>u,u,tf['no_of_passenger_0'])\n",
    "tf['no_of_passenger_0']=np.where(tf['no_of_passenger_0']<l,l,tf['no_of_passenger_0'])"
   ]
  },
  {
   "cell_type": "code",
   "execution_count": 33,
   "id": "5a0cb50b",
   "metadata": {},
   "outputs": [],
   "source": [
    "l,u=rem_out(tf['no_of_passenger_1'])\n",
    "tf['no_of_passenger_1']=np.where(tf['no_of_passenger_1']>u,u,tf['no_of_passenger_1'])\n",
    "tf['no_of_passenger_1']=np.where(tf['no_of_passenger_1']<l,l,tf['no_of_passenger_1'])"
   ]
  },
  {
   "cell_type": "code",
   "execution_count": 34,
   "id": "43aa5a3f",
   "metadata": {},
   "outputs": [],
   "source": [
    "l,u=rem_out(tf['no_of_passenger_2'])\n",
    "tf['no_of_passenger_2']=np.where(tf['no_of_passenger_2']>u,u,tf['no_of_passenger_2'])\n",
    "tf['no_of_passenger_2']=np.where(tf['no_of_passenger_2']<l,l,tf['no_of_passenger_2'])"
   ]
  },
  {
   "cell_type": "code",
   "execution_count": 35,
   "id": "91827038",
   "metadata": {},
   "outputs": [],
   "source": [
    "l,u=rem_out(tf['no_of_passenger_3'])\n",
    "tf['no_of_passenger_3']=np.where(tf['no_of_passenger_3']>u,u,tf['no_of_passenger_3'])\n",
    "tf['no_of_passenger_3']=np.where(tf['no_of_passenger_3']<l,l,tf['no_of_passenger_3'])"
   ]
  },
  {
   "cell_type": "code",
   "execution_count": 36,
   "id": "8427b6f6",
   "metadata": {},
   "outputs": [],
   "source": [
    "l,u=rem_out(tf['no_of_passenger_4'])\n",
    "tf['no_of_passenger_4']=np.where(tf['no_of_passenger_4']>u,u,tf['no_of_passenger_4'])\n",
    "tf['no_of_passenger_4']=np.where(tf['no_of_passenger_4']<l,l,tf['no_of_passenger_4'])"
   ]
  },
  {
   "cell_type": "code",
   "execution_count": 37,
   "id": "65a77c01",
   "metadata": {},
   "outputs": [],
   "source": [
    "l,u=rem_out(tf['no_of_passenger_5'])\n",
    "tf['no_of_passenger_5']=np.where(tf['no_of_passenger_5']>u,u,tf['no_of_passenger_5'])\n",
    "tf['no_of_passenger_5']=np.where(tf['no_of_passenger_5']<l,l,tf['no_of_passenger_5'])"
   ]
  },
  {
   "cell_type": "code",
   "execution_count": 38,
   "id": "a833fab6",
   "metadata": {},
   "outputs": [],
   "source": [
    "l,u=rem_out(tf['no_of_passenger_6'])\n",
    "tf['no_of_passenger_6']=np.where(tf['no_of_passenger_6']>u,u,tf['no_of_passenger_6'])\n",
    "tf['no_of_passenger_6']=np.where(tf['no_of_passenger_6']<l,l,tf['no_of_passenger_6'])"
   ]
  },
  {
   "cell_type": "code",
   "execution_count": 39,
   "id": "60d54cf6",
   "metadata": {
    "scrolled": true
   },
   "outputs": [
    {
     "data": {
      "image/png": "[encoded data removed]",
      "text/plain": [
       "<Figure size 432x288 with 1 Axes>"
      ]
     },
     "metadata": {
      "needs_background": "light"
     },
     "output_type": "display_data"
    }
   ],
   "source": [
    "tf.boxplot(column=\"amount\")\n",
    "plt.show()"
   ]
  },
  {
   "cell_type": "code",
   "execution_count": 40,
   "id": "ab11e2f9",
   "metadata": {
    "scrolled": true
   },
   "outputs": [
    {
     "data": {
      "image/png": "[encoded data removed]",
      "text/plain": [
       "<Figure size 432x288 with 1 Axes>"
      ]
     },
     "metadata": {
      "needs_background": "light"
     },
     "output_type": "display_data"
    }
   ],
   "source": [
    "tf.boxplot(column=\"longitude_of_pickup\")\n",
    "plt.show()"
   ]
  },
  {
   "cell_type": "code",
   "execution_count": 41,
   "id": "82226cb4",
   "metadata": {
    "scrolled": true
   },
   "outputs": [
    {
     "data": {
      "image/png": "[encoded data removed]",
      "text/plain": [
       "<Figure size 432x288 with 1 Axes>"
      ]
     },
     "metadata": {
      "needs_background": "light"
     },
     "output_type": "display_data"
    }
   ],
   "source": [
    "tf.boxplot(column=\"latitude_of_pickup\")\n",
    "plt.show()"
   ]
  },
  {
   "cell_type": "code",
   "execution_count": 42,
   "id": "419f6af5",
   "metadata": {
    "scrolled": true
   },
   "outputs": [
    {
     "data": {
      "image/png": "[encoded data removed]",
      "text/plain": [
       "<Figure size 432x288 with 1 Axes>"
      ]
     },
     "metadata": {
      "needs_background": "light"
     },
     "output_type": "display_data"
    }
   ],
   "source": [
    "tf.boxplot(column=\"longitude_of_dropoff\")\n",
    "plt.show()"
   ]
  },
  {
   "cell_type": "code",
   "execution_count": 43,
   "id": "15440e28",
   "metadata": {},
   "outputs": [
    {
     "data": {
      "image/png": "[encoded data removed]",
      "text/plain": [
       "<Figure size 432x288 with 1 Axes>"
      ]
     },
     "metadata": {
      "needs_background": "light"
     },
     "output_type": "display_data"
    }
   ],
   "source": [
    "tf.boxplot(column=\"latitude_of_dropoff\")\n",
    "plt.show()"
   ]
  },
  {
   "cell_type": "code",
   "execution_count": 44,
   "id": "ee18a99b",
   "metadata": {
    "scrolled": true
   },
   "outputs": [
    {
     "data": {
      "image/png": "[encoded data removed]",
      "text/plain": [
       "<Figure size 432x288 with 1 Axes>"
      ]
     },
     "metadata": {
      "needs_background": "light"
     },
     "output_type": "display_data"
    }
   ],
   "source": [
    "tf.boxplot(column=\"no_of_passenger_0\")\n",
    "plt.show()"
   ]
  },
  {
   "cell_type": "code",
   "execution_count": 45,
   "id": "56113870",
   "metadata": {
    "scrolled": true
   },
   "outputs": [
    {
     "data": {
      "image/png": "[encoded data removed]",
      "text/plain": [
       "<Figure size 432x288 with 1 Axes>"
      ]
     },
     "metadata": {
      "needs_background": "light"
     },
     "output_type": "display_data"
    }
   ],
   "source": [
    "tf.boxplot(column=\"no_of_passenger_1\")\n",
    "plt.show()"
   ]
  },
  {
   "cell_type": "code",
   "execution_count": 46,
   "id": "a3dc3170",
   "metadata": {
    "scrolled": true
   },
   "outputs": [
    {
     "data": {
      "image/png": "[encoded data removed]",
      "text/plain": [
       "<Figure size 432x288 with 1 Axes>"
      ]
     },
     "metadata": {
      "needs_background": "light"
     },
     "output_type": "display_data"
    }
   ],
   "source": [
    "tf.boxplot(column=\"no_of_passenger_2\")\n",
    "plt.show()"
   ]
  },
  {
   "cell_type": "code",
   "execution_count": 47,
   "id": "f661fbb7",
   "metadata": {
    "scrolled": true
   },
   "outputs": [
    {
     "data": {
      "image/png": "[encoded data removed]",
      "text/plain": [
       "<Figure size 432x288 with 1 Axes>"
      ]
     },
     "metadata": {
      "needs_background": "light"
     },
     "output_type": "display_data"
    }
   ],
   "source": [
    "tf.boxplot(column=\"no_of_passenger_3\")\n",
    "plt.show()"
   ]
  },
  {
   "cell_type": "code",
   "execution_count": 48,
   "id": "d09ff91f",
   "metadata": {
    "scrolled": true
   },
   "outputs": [
    {
     "data": {
      "image/png": "[encoded data removed]",
      "text/plain": [
       "<Figure size 432x288 with 1 Axes>"
      ]
     },
     "metadata": {
      "needs_background": "light"
     },
     "output_type": "display_data"
    }
   ],
   "source": [
    "tf.boxplot(column=\"no_of_passenger_4\")\n",
    "plt.show()"
   ]
  },
  {
   "cell_type": "code",
   "execution_count": 49,
   "id": "dd9d2a3b",
   "metadata": {
    "scrolled": true
   },
   "outputs": [
    {
     "data": {
      "image/png": "[encoded data removed]",
      "text/plain": [
       "<Figure size 432x288 with 1 Axes>"
      ]
     },
     "metadata": {
      "needs_background": "light"
     },
     "output_type": "display_data"
    }
   ],
   "source": [
    "tf.boxplot(column=\"no_of_passenger_5\")\n",
    "plt.show()"
   ]
  },
  {
   "cell_type": "code",
   "execution_count": 50,
   "id": "cd45ce1f",
   "metadata": {
    "scrolled": true
   },
   "outputs": [
    {
     "data": {
      "image/png": "[encoded data removed]",
      "text/plain": [
       "<Figure size 432x288 with 1 Axes>"
      ]
     },
     "metadata": {
      "needs_background": "light"
     },
     "output_type": "display_data"
    }
   ],
   "source": [
    "tf.boxplot(column=\"no_of_passenger_6\")\n",
    "plt.show()"
   ]
  },
  {
   "cell_type": "code",
   "execution_count": 51,
   "id": "aa7b031a",
   "metadata": {},
   "outputs": [],
   "source": [
    "# sns.pairplot(tf,diag_kind=\"kde\")"
   ]
  },
  {
   "cell_type": "code",
   "execution_count": 52,
   "id": "531d7c6f",
   "metadata": {
    "scrolled": true
   },
   "outputs": [
    {
     "data": {
      "text/plain": [
       "930"
      ]
     },
     "execution_count": 52,
     "metadata": {},
     "output_type": "execute_result"
    }
   ],
   "source": [
    "dup=tf.duplicated()\n",
    "dup.sum()"
   ]
  },
  {
   "cell_type": "code",
   "execution_count": 53,
   "id": "f46fd13f",
   "metadata": {},
   "outputs": [],
   "source": [
    "tf.drop_duplicates(inplace=True)"
   ]
  },
  {
   "cell_type": "code",
   "execution_count": 54,
   "id": "895ba3e1",
   "metadata": {},
   "outputs": [
    {
     "data": {
      "text/plain": [
       "0"
      ]
     },
     "execution_count": 54,
     "metadata": {},
     "output_type": "execute_result"
    }
   ],
   "source": [
    "dup=tf.duplicated()\n",
    "dup.sum()"
   ]
  },
  {
   "cell_type": "code",
   "execution_count": 55,
   "id": "6ff7ccc6",
   "metadata": {},
   "outputs": [
    {
     "data": {
      "text/html": [
       "<div>\n",
       "<style scoped>\n",
       "    .dataframe tbody tr th:only-of-type {\n",
       "        vertical-align: middle;\n",
       "    }\n",
       "\n",
       "    .dataframe tbody tr th {\n",
       "        vertical-align: top;\n",
       "    }\n",
       "\n",
       "    .dataframe thead th {\n",
       "        text-align: right;\n",
       "    }\n",
       "</style>\n",
       "<table border=\"1\" class=\"dataframe\">\n",
       "  <thead>\n",
       "    <tr style=\"text-align: right;\">\n",
       "      <th></th>\n",
       "      <th>amount</th>\n",
       "      <th>longitude_of_pickup</th>\n",
       "      <th>latitude_of_pickup</th>\n",
       "      <th>longitude_of_dropoff</th>\n",
       "      <th>latitude_of_dropoff</th>\n",
       "      <th>no_of_passenger_0</th>\n",
       "      <th>no_of_passenger_1</th>\n",
       "      <th>no_of_passenger_2</th>\n",
       "      <th>no_of_passenger_3</th>\n",
       "      <th>no_of_passenger_4</th>\n",
       "      <th>no_of_passenger_5</th>\n",
       "      <th>no_of_passenger_6</th>\n",
       "    </tr>\n",
       "  </thead>\n",
       "  <tbody>\n",
       "    <tr>\n",
       "      <th>amount</th>\n",
       "      <td>1.000000</td>\n",
       "      <td>0.152914</td>\n",
       "      <td>-0.117681</td>\n",
       "      <td>0.236080</td>\n",
       "      <td>-0.125036</td>\n",
       "      <td>NaN</td>\n",
       "      <td>-0.022629</td>\n",
       "      <td>NaN</td>\n",
       "      <td>NaN</td>\n",
       "      <td>NaN</td>\n",
       "      <td>NaN</td>\n",
       "      <td>NaN</td>\n",
       "    </tr>\n",
       "    <tr>\n",
       "      <th>longitude_of_pickup</th>\n",
       "      <td>0.152914</td>\n",
       "      <td>1.000000</td>\n",
       "      <td>0.423854</td>\n",
       "      <td>0.352200</td>\n",
       "      <td>0.193125</td>\n",
       "      <td>NaN</td>\n",
       "      <td>0.006831</td>\n",
       "      <td>NaN</td>\n",
       "      <td>NaN</td>\n",
       "      <td>NaN</td>\n",
       "      <td>NaN</td>\n",
       "      <td>NaN</td>\n",
       "    </tr>\n",
       "    <tr>\n",
       "      <th>latitude_of_pickup</th>\n",
       "      <td>-0.117681</td>\n",
       "      <td>0.423854</td>\n",
       "      <td>1.000000</td>\n",
       "      <td>0.176093</td>\n",
       "      <td>0.456619</td>\n",
       "      <td>NaN</td>\n",
       "      <td>0.013792</td>\n",
       "      <td>NaN</td>\n",
       "      <td>NaN</td>\n",
       "      <td>NaN</td>\n",
       "      <td>NaN</td>\n",
       "      <td>NaN</td>\n",
       "    </tr>\n",
       "    <tr>\n",
       "      <th>longitude_of_dropoff</th>\n",
       "      <td>0.236080</td>\n",
       "      <td>0.352200</td>\n",
       "      <td>0.176093</td>\n",
       "      <td>1.000000</td>\n",
       "      <td>0.387670</td>\n",
       "      <td>NaN</td>\n",
       "      <td>0.004661</td>\n",
       "      <td>NaN</td>\n",
       "      <td>NaN</td>\n",
       "      <td>NaN</td>\n",
       "      <td>NaN</td>\n",
       "      <td>NaN</td>\n",
       "    </tr>\n",
       "    <tr>\n",
       "      <th>latitude_of_dropoff</th>\n",
       "      <td>-0.125036</td>\n",
       "      <td>0.193125</td>\n",
       "      <td>0.456619</td>\n",
       "      <td>0.387670</td>\n",
       "      <td>1.000000</td>\n",
       "      <td>NaN</td>\n",
       "      <td>0.008050</td>\n",
       "      <td>NaN</td>\n",
       "      <td>NaN</td>\n",
       "      <td>NaN</td>\n",
       "      <td>NaN</td>\n",
       "      <td>NaN</td>\n",
       "    </tr>\n",
       "    <tr>\n",
       "      <th>no_of_passenger_0</th>\n",
       "      <td>NaN</td>\n",
       "      <td>NaN</td>\n",
       "      <td>NaN</td>\n",
       "      <td>NaN</td>\n",
       "      <td>NaN</td>\n",
       "      <td>NaN</td>\n",
       "      <td>NaN</td>\n",
       "      <td>NaN</td>\n",
       "      <td>NaN</td>\n",
       "      <td>NaN</td>\n",
       "      <td>NaN</td>\n",
       "      <td>NaN</td>\n",
       "    </tr>\n",
       "    <tr>\n",
       "      <th>no_of_passenger_1</th>\n",
       "      <td>-0.022629</td>\n",
       "      <td>0.006831</td>\n",
       "      <td>0.013792</td>\n",
       "      <td>0.004661</td>\n",
       "      <td>0.008050</td>\n",
       "      <td>NaN</td>\n",
       "      <td>1.000000</td>\n",
       "      <td>NaN</td>\n",
       "      <td>NaN</td>\n",
       "      <td>NaN</td>\n",
       "      <td>NaN</td>\n",
       "      <td>NaN</td>\n",
       "    </tr>\n",
       "    <tr>\n",
       "      <th>no_of_passenger_2</th>\n",
       "      <td>NaN</td>\n",
       "      <td>NaN</td>\n",
       "      <td>NaN</td>\n",
       "      <td>NaN</td>\n",
       "      <td>NaN</td>\n",
       "      <td>NaN</td>\n",
       "      <td>NaN</td>\n",
       "      <td>NaN</td>\n",
       "      <td>NaN</td>\n",
       "      <td>NaN</td>\n",
       "      <td>NaN</td>\n",
       "      <td>NaN</td>\n",
       "    </tr>\n",
       "    <tr>\n",
       "      <th>no_of_passenger_3</th>\n",
       "      <td>NaN</td>\n",
       "      <td>NaN</td>\n",
       "      <td>NaN</td>\n",
       "      <td>NaN</td>\n",
       "      <td>NaN</td>\n",
       "      <td>NaN</td>\n",
       "      <td>NaN</td>\n",
       "      <td>NaN</td>\n",
       "      <td>NaN</td>\n",
       "      <td>NaN</td>\n",
       "      <td>NaN</td>\n",
       "      <td>NaN</td>\n",
       "    </tr>\n",
       "    <tr>\n",
       "      <th>no_of_passenger_4</th>\n",
       "      <td>NaN</td>\n",
       "      <td>NaN</td>\n",
       "      <td>NaN</td>\n",
       "      <td>NaN</td>\n",
       "      <td>NaN</td>\n",
       "      <td>NaN</td>\n",
       "      <td>NaN</td>\n",
       "      <td>NaN</td>\n",
       "      <td>NaN</td>\n",
       "      <td>NaN</td>\n",
       "      <td>NaN</td>\n",
       "      <td>NaN</td>\n",
       "    </tr>\n",
       "    <tr>\n",
       "      <th>no_of_passenger_5</th>\n",
       "      <td>NaN</td>\n",
       "      <td>NaN</td>\n",
       "      <td>NaN</td>\n",
       "      <td>NaN</td>\n",
       "      <td>NaN</td>\n",
       "      <td>NaN</td>\n",
       "      <td>NaN</td>\n",
       "      <td>NaN</td>\n",
       "      <td>NaN</td>\n",
       "      <td>NaN</td>\n",
       "      <td>NaN</td>\n",
       "      <td>NaN</td>\n",
       "    </tr>\n",
       "    <tr>\n",
       "      <th>no_of_passenger_6</th>\n",
       "      <td>NaN</td>\n",
       "      <td>NaN</td>\n",
       "      <td>NaN</td>\n",
       "      <td>NaN</td>\n",
       "      <td>NaN</td>\n",
       "      <td>NaN</td>\n",
       "      <td>NaN</td>\n",
       "      <td>NaN</td>\n",
       "      <td>NaN</td>\n",
       "      <td>NaN</td>\n",
       "      <td>NaN</td>\n",
       "      <td>NaN</td>\n",
       "    </tr>\n",
       "  </tbody>\n",
       "</table>\n",
       "</div>"
      ],
      "text/plain": [
       "                        amount  longitude_of_pickup  latitude_of_pickup  \\\n",
       "amount                1.000000             0.152914           -0.117681   \n",
       "longitude_of_pickup   0.152914             1.000000            0.423854   \n",
       "latitude_of_pickup   -0.117681             0.423854            1.000000   \n",
       "longitude_of_dropoff  0.236080             0.352200            0.176093   \n",
       "latitude_of_dropoff  -0.125036             0.193125            0.456619   \n",
       "no_of_passenger_0          NaN                  NaN                 NaN   \n",
       "no_of_passenger_1    -0.022629             0.006831            0.013792   \n",
       "no_of_passenger_2          NaN                  NaN                 NaN   \n",
       "no_of_passenger_3          NaN                  NaN                 NaN   \n",
       "no_of_passenger_4          NaN                  NaN                 NaN   \n",
       "no_of_passenger_5          NaN                  NaN                 NaN   \n",
       "no_of_passenger_6          NaN                  NaN                 NaN   \n",
       "\n",
       "                      longitude_of_dropoff  latitude_of_dropoff  \\\n",
       "amount                            0.236080            -0.125036   \n",
       "longitude_of_pickup               0.352200             0.193125   \n",
       "latitude_of_pickup                0.176093             0.456619   \n",
       "longitude_of_dropoff              1.000000             0.387670   \n",
       "latitude_of_dropoff               0.387670             1.000000   \n",
       "no_of_passenger_0                      NaN                  NaN   \n",
       "no_of_passenger_1                 0.004661             0.008050   \n",
       "no_of_passenger_2                      NaN                  NaN   \n",
       "no_of_passenger_3                      NaN                  NaN   \n",
       "no_of_passenger_4                      NaN                  NaN   \n",
       "no_of_passenger_5                      NaN                  NaN   \n",
       "no_of_passenger_6                      NaN                  NaN   \n",
       "\n",
       "                      no_of_passenger_0  no_of_passenger_1  no_of_passenger_2  \\\n",
       "amount                              NaN          -0.022629                NaN   \n",
       "longitude_of_pickup                 NaN           0.006831                NaN   \n",
       "latitude_of_pickup                  NaN           0.013792                NaN   \n",
       "longitude_of_dropoff                NaN           0.004661                NaN   \n",
       "latitude_of_dropoff                 NaN           0.008050                NaN   \n",
       "no_of_passenger_0                   NaN                NaN                NaN   \n",
       "no_of_passenger_1                   NaN           1.000000                NaN   \n",
       "no_of_passenger_2                   NaN                NaN                NaN   \n",
       "no_of_passenger_3                   NaN                NaN                NaN   \n",
       "no_of_passenger_4                   NaN                NaN                NaN   \n",
       "no_of_passenger_5                   NaN                NaN                NaN   \n",
       "no_of_passenger_6                   NaN                NaN                NaN   \n",
       "\n",
       "                      no_of_passenger_3  no_of_passenger_4  no_of_passenger_5  \\\n",
       "amount                              NaN                NaN                NaN   \n",
       "longitude_of_pickup                 NaN                NaN                NaN   \n",
       "latitude_of_pickup                  NaN                NaN                NaN   \n",
       "longitude_of_dropoff                NaN                NaN                NaN   \n",
       "latitude_of_dropoff                 NaN                NaN                NaN   \n",
       "no_of_passenger_0                   NaN                NaN                NaN   \n",
       "no_of_passenger_1                   NaN                NaN                NaN   \n",
       "no_of_passenger_2                   NaN                NaN                NaN   \n",
       "no_of_passenger_3                   NaN                NaN                NaN   \n",
       "no_of_passenger_4                   NaN                NaN                NaN   \n",
       "no_of_passenger_5                   NaN                NaN                NaN   \n",
       "no_of_passenger_6                   NaN                NaN                NaN   \n",
       "\n",
       "                      no_of_passenger_6  \n",
       "amount                              NaN  \n",
       "longitude_of_pickup                 NaN  \n",
       "latitude_of_pickup                  NaN  \n",
       "longitude_of_dropoff                NaN  \n",
       "latitude_of_dropoff                 NaN  \n",
       "no_of_passenger_0                   NaN  \n",
       "no_of_passenger_1                   NaN  \n",
       "no_of_passenger_2                   NaN  \n",
       "no_of_passenger_3                   NaN  \n",
       "no_of_passenger_4                   NaN  \n",
       "no_of_passenger_5                   NaN  \n",
       "no_of_passenger_6                   NaN  "
      ]
     },
     "execution_count": 55,
     "metadata": {},
     "output_type": "execute_result"
    }
   ],
   "source": [
    "tf.corr()"
   ]
  },
  {
   "cell_type": "code",
   "execution_count": 56,
   "id": "fe84218c",
   "metadata": {},
   "outputs": [],
   "source": [
    "x=tf.drop(\"amount\",axis=1)\n",
    "y=tf[[\"amount\"]]"
   ]
  },
  {
   "cell_type": "code",
   "execution_count": 57,
   "id": "561e81bc",
   "metadata": {},
   "outputs": [],
   "source": [
    "x_train,x_test,y_train,y_test=train_test_split(x,y,test_size=0.30,random_state=1)"
   ]
  },
  {
   "cell_type": "code",
   "execution_count": 58,
   "id": "62325ac1",
   "metadata": {},
   "outputs": [],
   "source": [
    "project_model1=LinearRegression()"
   ]
  },
  {
   "cell_type": "code",
   "execution_count": 59,
   "id": "95e2d775",
   "metadata": {},
   "outputs": [
    {
     "data": {
      "text/plain": [
       "LinearRegression()"
      ]
     },
     "execution_count": 59,
     "metadata": {},
     "output_type": "execute_result"
    }
   ],
   "source": [
    "project_model1.fit(x_train,y_train)"
   ]
  },
  {
   "cell_type": "code",
   "execution_count": 60,
   "id": "87c8c605",
   "metadata": {},
   "outputs": [
    {
     "data": {
      "text/plain": [
       "0.1341393313229472"
      ]
     },
     "execution_count": 60,
     "metadata": {},
     "output_type": "execute_result"
    }
   ],
   "source": [
    "project_model1.score(x_train,y_train)"
   ]
  },
  {
   "cell_type": "code",
   "execution_count": 61,
   "id": "552a3057",
   "metadata": {},
   "outputs": [
    {
     "data": {
      "text/plain": [
       "0.1282260853983952"
      ]
     },
     "execution_count": 61,
     "metadata": {},
     "output_type": "execute_result"
    }
   ],
   "source": [
    "project_model1.score(x_test,y_test)"
   ]
  },
  {
   "cell_type": "code",
   "execution_count": 62,
   "id": "547802a5",
   "metadata": {},
   "outputs": [],
   "source": [
    "from sklearn.tree import DecisionTreeRegressor"
   ]
  },
  {
   "cell_type": "code",
   "execution_count": 63,
   "id": "7f534cff",
   "metadata": {},
   "outputs": [],
   "source": [
    "project_model2=DecisionTreeRegressor(max_depth=20,max_leaf_nodes=70,min_samples_leaf=80)"
   ]
  },
  {
   "cell_type": "code",
   "execution_count": 64,
   "id": "3ed35005",
   "metadata": {},
   "outputs": [
    {
     "data": {
      "text/plain": [
       "DecisionTreeRegressor(max_depth=20, max_leaf_nodes=70, min_samples_leaf=80)"
      ]
     },
     "execution_count": 64,
     "metadata": {},
     "output_type": "execute_result"
    }
   ],
   "source": [
    "project_model2.fit(x_train,y_train)"
   ]
  },
  {
   "cell_type": "code",
   "execution_count": 65,
   "id": "4cc298da",
   "metadata": {},
   "outputs": [
    {
     "data": {
      "text/plain": [
       "0.6789016723117733"
      ]
     },
     "execution_count": 65,
     "metadata": {},
     "output_type": "execute_result"
    }
   ],
   "source": [
    "project_model2.score(x_train,y_train)"
   ]
  },
  {
   "cell_type": "code",
   "execution_count": 66,
   "id": "d3bce73e",
   "metadata": {},
   "outputs": [
    {
     "data": {
      "text/plain": [
       "0.6679201422298031"
      ]
     },
     "execution_count": 66,
     "metadata": {},
     "output_type": "execute_result"
    }
   ],
   "source": [
    "project_model2.score(x_test,y_test)"
   ]
  },
  {
   "cell_type": "code",
   "execution_count": 67,
   "id": "54146e46",
   "metadata": {},
   "outputs": [],
   "source": [
    "from sklearn.ensemble import AdaBoostRegressor"
   ]
  },
  {
   "cell_type": "code",
   "execution_count": 68,
   "id": "d76ee188",
   "metadata": {},
   "outputs": [],
   "source": [
    "project_model3=AdaBoostRegressor(n_estimators=1)"
   ]
  },
  {
   "cell_type": "code",
   "execution_count": 69,
   "id": "bbefb115",
   "metadata": {},
   "outputs": [
    {
     "data": {
      "text/plain": [
       "AdaBoostRegressor(n_estimators=1)"
      ]
     },
     "execution_count": 69,
     "metadata": {},
     "output_type": "execute_result"
    }
   ],
   "source": [
    "project_model3.fit(x_train,y_train)"
   ]
  },
  {
   "cell_type": "code",
   "execution_count": 70,
   "id": "ac7c277c",
   "metadata": {},
   "outputs": [
    {
     "data": {
      "text/plain": [
       "0.3655033959048103"
      ]
     },
     "execution_count": 70,
     "metadata": {},
     "output_type": "execute_result"
    }
   ],
   "source": [
    "project_model3.score(x_train,y_train)"
   ]
  },
  {
   "cell_type": "code",
   "execution_count": 71,
   "id": "64e1815d",
   "metadata": {},
   "outputs": [
    {
     "data": {
      "text/plain": [
       "0.34603405342511595"
      ]
     },
     "execution_count": 71,
     "metadata": {},
     "output_type": "execute_result"
    }
   ],
   "source": [
    "project_model3.score(x_test,y_test)"
   ]
  },
  {
   "cell_type": "code",
   "execution_count": 72,
   "id": "bf4bedc9",
   "metadata": {},
   "outputs": [],
   "source": [
    "from sklearn.ensemble import GradientBoostingRegressor"
   ]
  },
  {
   "cell_type": "code",
   "execution_count": 73,
   "id": "f59a2065",
   "metadata": {},
   "outputs": [],
   "source": [
    "project_model4=GradientBoostingRegressor(n_estimators=80,max_depth=6)"
   ]
  },
  {
   "cell_type": "code",
   "execution_count": 74,
   "id": "75a0926c",
   "metadata": {},
   "outputs": [
    {
     "data": {
      "text/plain": [
       "GradientBoostingRegressor(max_depth=6, n_estimators=80)"
      ]
     },
     "execution_count": 74,
     "metadata": {},
     "output_type": "execute_result"
    }
   ],
   "source": [
    "project_model4.fit(x_train,y_train)"
   ]
  },
  {
   "cell_type": "code",
   "execution_count": 75,
   "id": "6ea71291",
   "metadata": {},
   "outputs": [
    {
     "data": {
      "text/plain": [
       "0.8009994449608194"
      ]
     },
     "execution_count": 75,
     "metadata": {},
     "output_type": "execute_result"
    }
   ],
   "source": [
    "project_model4.score(x_train,y_train)"
   ]
  },
  {
   "cell_type": "code",
   "execution_count": 76,
   "id": "f9ce899c",
   "metadata": {},
   "outputs": [
    {
     "data": {
      "text/plain": [
       "0.7582318912752312"
      ]
     },
     "execution_count": 76,
     "metadata": {},
     "output_type": "execute_result"
    }
   ],
   "source": [
    "project_model4.score(x_test,y_test)"
   ]
  },
  {
   "cell_type": "code",
   "execution_count": null,
   "id": "4d2fa9c7",
   "metadata": {},
   "outputs": [],
   "source": []
  },
  {
   "cell_type": "code",
   "execution_count": null,
   "id": "1e5b03ad",
   "metadata": {},
   "outputs": [],
   "source": []
  }
 ],
 "metadata": {
  "kernelspec": {
   "display_name": "Python 3 (ipykernel)",
   "language": "python",
   "name": "python3"
  },
  "language_info": {
   "codemirror_mode": {
    "name": "ipython",
    "version": 3
   },
   "file_extension": ".py",
   "mimetype": "text/x-python",
   "name": "python",
   "nbconvert_exporter": "python",
   "pygments_lexer": "ipython3",
   "version": "3.9.12"
  }
 },
 "nbformat": 4,
 "nbformat_minor": 5
}
